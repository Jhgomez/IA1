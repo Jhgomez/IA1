{
  "nbformat": 4,
  "nbformat_minor": 0,
  "metadata": {
    "colab": {
      "provenance": []
    },
    "kernelspec": {
      "name": "python3",
      "display_name": "Python 3"
    },
    "language_info": {
      "name": "python"
    }
  },
  "cells": [
    {
      "cell_type": "code",
      "source": [
        "def sucesores9(n):\n",
        "    if n == 1: return [2, 4, 5]\n",
        "    elif n == 2: return [1, 3, 4, 5, 6]\n",
        "    elif n == 3: return [2, 5, 6]\n",
        "    elif n == 4: return [1, 2, 5, 7, 8]\n",
        "    elif n == 5: return [1, 2, 3, 4, 6, 7 ,8, 9]\n",
        "    elif n == 6: return [2, 3, 5, 8 ,9]\n",
        "    elif n == 7: return [4, 5, 8]\n",
        "    elif n == 8: return [4, 5, 6 ,7, 9]\n",
        "    elif n == 9: return [5, 6 , 8]\n",
        "    else: return None\n",
        "\n",
        "def sucesores16(n):\n",
        "    if n == 1: return [2, 5, 6]\n",
        "    elif n == 2: return [1, 3, 5, 6, 7]\n",
        "    elif n == 3: return [2, 4, 6, 7, 8]\n",
        "    elif n == 4: return [3, 7, 8]\n",
        "    elif n == 5: return [1, 2, 6, 9, 10]\n",
        "    elif n == 6: return [1, 2, 3, 5, 7, 9, 10, 11]\n",
        "    elif n == 7: return [2, 3, 4, 6, 8, 10, 11, 12]\n",
        "    elif n == 8: return [3, 4, 7, 11, 12]\n",
        "    elif n == 9: return [5, 6, 10, 13, 14]\n",
        "    elif n == 10: return [5, 6, 7, 9, 11, 13, 14, 15]\n",
        "    elif n == 11: return [6, 7, 8, 10, 12, 14, 15, 16]\n",
        "    elif n == 12: return [7, 8, 11, 15, 16]\n",
        "    elif n == 13: return [9, 10, 14]\n",
        "    elif n == 14: return [9, 10, 11, 13, 15]\n",
        "    elif n == 15: return [10, 11, 12, 14, 16]\n",
        "    elif n == 16: return [11, 12, 15]\n",
        "    else: return None"
      ],
      "metadata": {
        "id": "acn0PIDvqFWd"
      },
      "execution_count": 4,
      "outputs": []
    },
    {
      "cell_type": "markdown",
      "source": [
        "# Breadth First/Por Anchura(Con optimizacion de limitacion opcional)\n",
        "Este algoritmo sirve para ambos, \"busqueda por anchura\" normal y tambien con la optimizacion, \"Anchura Limitada\", este ultimo tiene la intencion de no generar el ultimo nivel lo que permite ahorrar memoria y muy poco CPU ya que la complejidad deberia ser lineal, esto significa que si la respuesta esta en el ultimo nivel permitido sucedera \"backtracking\""
      ],
      "metadata": {
        "id": "KTfqI5maHhyj"
      }
    },
    {
      "cell_type": "code",
      "source": [
        "\n",
        "\n",
        "def anchura(nodo_inicio, nodo_fin, limite_niveles):\n",
        "    visitados = 0\n",
        "    lista = [nodo_inicio]\n",
        "    nodosEnNiveles = [1, 0]\n",
        "    niveles = 0\n",
        "    while lista:\n",
        "        nodo_actual = lista.pop(0)\n",
        "        # print (nodo_actual)\n",
        "\n",
        "        visitados += 1\n",
        "\n",
        "        nodosEnNiveles[0] -= 1\n",
        "\n",
        "        if nodo_actual == nodo_fin:\n",
        "            print(\"SOLUCIÓN\")\n",
        "            print(f\"nodos sin visitar {len(lista)}, la lista es:\")\n",
        "            print(lista)\n",
        "            print(f\"nodos visitados {visitados}\")\n",
        "            print(f\"respuesta encontrada en nivel(indice) {niveles}, total de niveles no calculado, podria ser igual o mayor por uno al nivel encontrado\")\n",
        "            return\n",
        "\n",
        "        if limite_niveles is not None:\n",
        "            if niveles == limite_niveles:\n",
        "                continue\n",
        "\n",
        "        temp = sucesores16(nodo_actual)\n",
        "\n",
        "        # este puede ser opcional(este determina si es orden ascendente o descendente), este cambio puede ser considerado una \"mejora\" en los algoritmos de busqueda\n",
        "        #temp.reverse()\n",
        "        #print (temp)\n",
        "\n",
        "        if temp:\n",
        "            lista.extend(temp)\n",
        "\n",
        "            if nodosEnNiveles[0] == 0:\n",
        "                niveles += 1\n",
        "\n",
        "                if nodosEnNiveles[1] is not None:\n",
        "                  nodosEnNiveles[0] = nodosEnNiveles[1] + len(temp)\n",
        "                  nodosEnNiveles[1] = 0\n",
        "                else:\n",
        "                  nodosEnNiveles[0] = len(temp)\n",
        "            else:\n",
        "                nodosEnNiveles[1] += len(temp)\n",
        "\n",
        "            # print(lista)\n",
        "    print (\"NO-SOLUCIÓN\")\n",
        "\n",
        "# anchura (1,10, None) # anchura normal\n",
        "anchura (1,10, 2) # anchura limitada"
      ],
      "metadata": {
        "colab": {
          "base_uri": "https://localhost:8080/"
        },
        "id": "nalTArmfHkmc",
        "outputId": "9f594111-b1b4-4833-8a10-7a913dd38922"
      },
      "execution_count": 5,
      "outputs": [
        {
          "output_type": "stream",
          "name": "stdout",
          "text": [
            "SOLUCIÓN\n",
            "nodos sin visitar 8, la lista es:\n",
            "[1, 2, 3, 5, 7, 9, 10, 11]\n",
            "nodos visitados 14\n",
            "respuesta encontrada en nivel(indice) 2, total de niveles no calculado, podria ser igual o mayor por uno al nivel encontrado\n"
          ]
        }
      ]
    },
    {
      "cell_type": "markdown",
      "source": [
        "# Busqueda Por profundidad\n",
        "Por su naturaleza encontrar una solucion no esta garantizado al menos en la matrices que estamos usando como ejemplo, ademas que pueden llegar a enciclarse ya que si estamos buscando de mayor a menor el orden de los sucesores debe ser descendente y si llega al nivel mas alto y el numero que estamos buscando no estaba en el camino se va enciclar, asi mismo si estamos buscando desde un nodo mayor a un nodo menor el orden de los sucesore3s debe de ser ascendente y se observa un comportamiento similar, osea se puede enciclar en un contexto similar. Notece que los sucesores generados siempre se colocan al inicio de la lista lo que le da un comportamiento de pila a la fila"
      ],
      "metadata": {
        "id": "MXUzxLgQtX8R"
      }
    },
    {
      "cell_type": "code",
      "source": [
        "def profundidad (nodo_inicio, nodo_fin):\n",
        "    lista = [nodo_inicio]\n",
        "    niveles = 0\n",
        "    nodos_visitados = 0\n",
        "\n",
        "    while lista:\n",
        "        nodo_actual = lista.pop(0)\n",
        "        nodos_visitados += 1\n",
        "\n",
        "        # print (nodo_actual)\n",
        "        if nodo_actual == nodo_fin:\n",
        "            #print(len(lista))\n",
        "            print(\"SOLUCIÓN\")\n",
        "            print(f\"nodos visitados {nodos_visitados}\")\n",
        "            print(f\"respuesta encontrada en nivel(indice) {niveles}\")\n",
        "            print(f\"nodos sin visitar {len(lista)}, y la lista es:\")\n",
        "            print(lista)\n",
        "            return\n",
        "\n",
        "        temp = sucesores16(nodo_actual)\n",
        "\n",
        "        # este puede ser opcional(este determina si es orden ascendente o descendente), este cambio puede ser considerado una \"mejora\" en los algoritmos de busqueda\n",
        "        temp.reverse()\n",
        "\n",
        "        if temp:\n",
        "            temp.extend(lista)\n",
        "            lista = temp\n",
        "            niveles += 1\n",
        "\n",
        "            # if niveles == 1:\n",
        "            #     nodos_sin_visitar = temp\n",
        "            # else:\n",
        "            #     nodos_sin_visitar = [temp, nodos_sin_visitar]\n",
        "            #     nodos_sin_visitar = [item for sublist in nodos_sin_visitar for item in sublist]\n",
        "\n",
        "    print (\"NO-SOLUCIÓN\")\n",
        "\n",
        "profundidad (1,6)"
      ],
      "metadata": {
        "colab": {
          "base_uri": "https://localhost:8080/"
        },
        "id": "qj7o6oSaqz6r",
        "outputId": "b5ae8bda-1902-4d1d-c811-348f19bb4ad9"
      },
      "execution_count": 6,
      "outputs": [
        {
          "output_type": "stream",
          "name": "stdout",
          "text": [
            "SOLUCIÓN\n",
            "nodos visitados 2\n",
            "respuesta encontrada en nivel(indice) 1\n",
            "nodos sin visitar 2, y la lista es:\n",
            "[5, 2]\n"
          ]
        }
      ]
    },
    {
      "cell_type": "markdown",
      "source": [
        "# Backtracking\n",
        "Ya vimos que puede suceder backtracking en una busqueda por \"anchura limitada\", ahora veremos el backtracking pero en la busqueda \"por profundidad\", esta es practicamente una buqueda por \"profundidad limitada\" la unica diferencia con la busqueda por profundiad normal es que esta otra chequea que no haya llegado al limite de niveles"
      ],
      "metadata": {
        "id": "1bzbwGAN5tEr"
      }
    },
    {
      "cell_type": "code",
      "source": [
        "def profundidadLimitadaAkaBacktracking (nodo_inicio, nodo_fin, indice_limite):\n",
        "    lista = [nodo_inicio]\n",
        "    niveles = 0\n",
        "    nodos_visitados = 0\n",
        "    nodos_en_nivel_limite = 0\n",
        "\n",
        "    while lista:\n",
        "        nodo_actual = lista.pop(0)\n",
        "        nodos_visitados += 1\n",
        "\n",
        "        if indice_limite == niveles:\n",
        "            if nodos_en_nivel_limite > 0:\n",
        "                nodos_en_nivel_limite -= 1\n",
        "\n",
        "        # print (nodo_actual)\n",
        "        if nodo_actual == nodo_fin:\n",
        "            #print(len(lista))\n",
        "            print(\"SOLUCIÓN\")\n",
        "            print(f\"nodos visitados {nodos_visitados}\")\n",
        "            print(f\"respuesta encontrada en nivel(indice) {niveles}\")\n",
        "            print(f\"nodos sin visitar {len(lista)}, y la lista es:\")\n",
        "            print(lista)\n",
        "            return True\n",
        "\n",
        "        if indice_limite == niveles:\n",
        "            if nodos_en_nivel_limite == 0:\n",
        "                if lista:\n",
        "                    niveles -= 1\n",
        "\n",
        "            continue\n",
        "\n",
        "        temp = sucesores16(nodo_actual)\n",
        "\n",
        "        # este puede ser opcional(este determina si es orden ascendente o descendente), este cambio puede ser considerado una \"mejora\" en los algoritmos de busqueda\n",
        "        temp.reverse()\n",
        "\n",
        "        if temp:\n",
        "            niveles += 1\n",
        "\n",
        "            if indice_limite == niveles:\n",
        "                nodos_en_nivel_limite = len(temp)\n",
        "\n",
        "            temp.extend(lista)\n",
        "            lista = temp\n",
        "\n",
        "            # if niveles == 1:\n",
        "            #     nodos_sin_visitar = temp\n",
        "            # else:\n",
        "            #     nodos_sin_visitar = [temp, nodos_sin_visitar]\n",
        "            #     nodos_sin_visitar = [item for sublist in nodos_sin_visitar for item in sublist]\n",
        "\n",
        "    print (\"NO-SOLUCIÓN\")\n",
        "    print(f\"nodos visitados {nodos_visitados}\")\n",
        "    print(f\"nivel(indice) maximo visitado  {niveles}\")\n",
        "    print(f\"nodos sin visitar {len(lista)}, y la lista es:\")\n",
        "    print(lista)\n",
        "    return False\n",
        "\n",
        "profundidadLimitadaAkaBacktracking (1, 13, 2)"
      ],
      "metadata": {
        "colab": {
          "base_uri": "https://localhost:8080/"
        },
        "id": "xcuWXMW36EYk",
        "outputId": "8f6064ca-a774-413d-ecef-b275c4695fbf"
      },
      "execution_count": 7,
      "outputs": [
        {
          "output_type": "stream",
          "name": "stdout",
          "text": [
            "NO-SOLUCIÓN\n",
            "nodos visitados 22\n",
            "nivel(indice) maximo visitado  2\n",
            "nodos sin visitar 0, y la lista es:\n",
            "[]\n"
          ]
        },
        {
          "output_type": "execute_result",
          "data": {
            "text/plain": [
              "False"
            ]
          },
          "metadata": {},
          "execution_count": 7
        }
      ]
    },
    {
      "cell_type": "markdown",
      "source": [
        "# Backjumping\n",
        "La diferencia con el backtracking es que solo visita el primer nodo del nivel limite y los demas nodos/sucesores del nivel limite son eliminados, de esta manera se produce un backjumping, los nodos elminados aun se consideran nodos generados pero con la salvedad que fueron eliminados. La pregunta clave es: Los nodos eliminados se consideran sin visitar o simplemente no se consideran?"
      ],
      "metadata": {
        "id": "ZwmkMzEZABb1"
      }
    },
    {
      "cell_type": "code",
      "source": [
        "def profundidadConBackjumping (nodo_inicio, nodo_fin, indice_limite):\n",
        "    lista = [nodo_inicio]\n",
        "    niveles = 0\n",
        "    nodos_visitados = 0\n",
        "    nodos_eliminados = []\n",
        "\n",
        "    while lista:\n",
        "        nodo_actual = lista.pop(0)\n",
        "        nodos_visitados += 1\n",
        "\n",
        "        # print (nodo_actual)\n",
        "        if nodo_actual == nodo_fin:\n",
        "            #print(len(lista))\n",
        "            print(\"SOLUCIÓN\")\n",
        "            print(f\"nodos visitados {nodos_visitados}\")\n",
        "            print(f\"respuesta encontrada en nivel(indice) {niveles}\")\n",
        "            print(f\"nodos sin visitar {len(lista)}, y la lista es:\")\n",
        "            print(lista)\n",
        "            print(f\"nodos eliminados {len(nodos_eliminados)}, y la lista es:\")\n",
        "            print(nodos_eliminados)\n",
        "            return\n",
        "\n",
        "        if indice_limite == niveles:\n",
        "            if lista:\n",
        "                niveles -= 1\n",
        "            continue\n",
        "\n",
        "        temp = sucesores16(nodo_actual)\n",
        "\n",
        "        # este puede ser opcional(este determina si es orden ascendente o descendente), este cambio puede ser considerado una \"mejora\" en los algoritmos de busqueda\n",
        "        temp.reverse()\n",
        "\n",
        "        if temp:\n",
        "            niveles += 1\n",
        "\n",
        "            if indice_limite == niveles:\n",
        "                singleList = [temp.pop(0)]\n",
        "                singleList.extend(lista)\n",
        "\n",
        "                lista = singleList\n",
        "\n",
        "                nodos_eliminados.extend(temp)\n",
        "            else:\n",
        "              temp.extend(lista)\n",
        "              lista = temp\n",
        "\n",
        "    print (\"NO-SOLUCIÓN\")\n",
        "    print(f\"nodos visitados {nodos_visitados}\")\n",
        "    print(f\"nivel(indice) maximo visitado {niveles}\")\n",
        "    print(f\"nodos sin visitar {len(lista)}, y la lista es:\")\n",
        "    print(lista)\n",
        "    print(f\"nodos eliminados {len(nodos_eliminados)}, y la lista es:\")\n",
        "    print(nodos_eliminados)\n",
        "\n",
        "profundidadConBackjumping (1, 5, 4)"
      ],
      "metadata": {
        "colab": {
          "base_uri": "https://localhost:8080/"
        },
        "id": "kV5yOGkRE11A",
        "outputId": "19028d01-ad06-4f31-da2a-10444c4601b1"
      },
      "execution_count": 8,
      "outputs": [
        {
          "output_type": "stream",
          "name": "stdout",
          "text": [
            "SOLUCIÓN\n",
            "nodos visitados 26\n",
            "respuesta encontrada en nivel(indice) 3\n",
            "nodos sin visitar 5, y la lista es:\n",
            "[3, 2, 1, 5, 2]\n",
            "nodos eliminados 57, y la lista es:\n",
            "[12, 11, 14, 12, 11, 10, 13, 11, 10, 9, 15, 11, 8, 7, 14, 13, 11, 9, 7, 6, 5, 11, 7, 4, 3, 11, 10, 8, 6, 4, 3, 2, 10, 9, 7, 5, 3, 2, 1, 14, 13, 11, 9, 7, 6, 5, 13, 10, 6, 5, 11, 10, 8, 6, 4, 3, 2]\n"
          ]
        }
      ]
    },
    {
      "cell_type": "markdown",
      "source": [
        "# Iterativa con Backtracking\n",
        "Este genera varios arboles, un arbol en cada iteracion y su complejidad seria entre lineal y cuadratica porque hay un loop dentro de un loop. Esta tiene el estilo de una busqueda \"por profunidad\" con backtracking pero dentro de un loop y este no se detiene hasta que encuentre una solucion"
      ],
      "metadata": {
        "id": "cBCtjOecZndL"
      }
    },
    {
      "cell_type": "code",
      "source": [
        "def ProfundidadIterativaConBackTraacking (nodo_inicio, nodo_fin):\n",
        "  nivel_limite = 0\n",
        "  while not profundidadLimitadaAkaBacktracking(nodo_inicio, nodo_fin, nivel_limite):\n",
        "    nivel_limite += 1\n",
        "\n",
        "ProfundidadIterativaConBackTraacking(1, 13)"
      ],
      "metadata": {
        "colab": {
          "base_uri": "https://localhost:8080/"
        },
        "id": "qvFEm3CNbb7r",
        "outputId": "6b712a4b-f8bd-4284-8e9d-ef2b3b25390a"
      },
      "execution_count": 9,
      "outputs": [
        {
          "output_type": "stream",
          "name": "stdout",
          "text": [
            "NO-SOLUCIÓN\n",
            "nodos visitados 1\n",
            "nivel(indice) maximo visitado  0\n",
            "nodos sin visitar 0, y la lista es:\n",
            "[]\n",
            "NO-SOLUCIÓN\n",
            "nodos visitados 4\n",
            "nivel(indice) maximo visitado  1\n",
            "nodos sin visitar 0, y la lista es:\n",
            "[]\n",
            "NO-SOLUCIÓN\n",
            "nodos visitados 22\n",
            "nivel(indice) maximo visitado  2\n",
            "nodos sin visitar 0, y la lista es:\n",
            "[]\n",
            "SOLUCIÓN\n",
            "nodos visitados 15\n",
            "respuesta encontrada en nivel(indice) 3\n",
            "nodos sin visitar 13, y la lista es:\n",
            "[11, 9, 7, 6, 5, 9, 7, 5, 3, 2, 1, 5, 2]\n"
          ]
        }
      ]
    },
    {
      "cell_type": "markdown",
      "source": [
        "# Busqueda Bidireccional"
      ],
      "metadata": {
        "id": "Z3W3oGLCfxkj"
      }
    },
    {
      "cell_type": "code",
      "source": [
        "def bidireccional(nodo_inicio, nodo_fin):\n",
        "    front = [nodo_inicio]\n",
        "    back = [nodo_fin]\n",
        "    nodos_visitados = 0\n",
        "\n",
        "    while front or back:\n",
        "        print(f\"front {front}\")\n",
        "        print(f\"back {back}\")\n",
        "\n",
        "        nfront = front.pop(0)\n",
        "        nback = back.pop(0)\n",
        "\n",
        "        nodos_visitados += 2\n",
        "\n",
        "        if nfront in back and nback in front:\n",
        "            if back.index(nfront) < front.index(nback):\n",
        "                print(f\"{nfront} comun\")\n",
        "                print(f\"nodos front pendientes {len(front)}, {front}\")\n",
        "                print(f\"nodos back pendientes {len(back)}, {back}\")\n",
        "                print(f\"nodos visitados {nodos_visitados}\")\n",
        "                return\n",
        "            else:\n",
        "                print(f\"{nback} comun\")\n",
        "                print(f\"nodos front pendientes {len(front)}, {front}\")\n",
        "                print(f\"nodos back pendientes {len(back)}, {back}\")\n",
        "                print(f\"nodos visitados {nodos_visitados}\")\n",
        "                return\n",
        "        elif nfront in back:\n",
        "            print(f\"{nfront} comun\")\n",
        "            print(f\"nodos front pendientes {len(front)}, {front}\")\n",
        "            print(f\"nodos back pendientes {len(back)}, {back}\")\n",
        "            print(f\"nodos visitados {nodos_visitados}\")\n",
        "            return\n",
        "        elif nback in front:\n",
        "            print(f\"{nback} comun\")\n",
        "            print(f\"nodos front pendientes {len(front)}, {front}\")\n",
        "            print(f\"nodos back pendientes {len(back)}, {back}\")\n",
        "            print(f\"nodos visitados {nodos_visitados}\")\n",
        "            return\n",
        "\n",
        "        tempFront = sucesores16(nfront)\n",
        "        tempBack = sucesores16(nback)\n",
        "\n",
        "        # tempFront.reverse()\n",
        "        # tempBack.reverse()\n",
        "\n",
        "        front.extend(tempFront)\n",
        "        back.extend(tempBack)\n",
        "\n",
        "    print(\"SIN-SOLUCION\")\n",
        "\n",
        "\n",
        "bidireccional(1, 4)"
      ],
      "metadata": {
        "colab": {
          "base_uri": "https://localhost:8080/"
        },
        "id": "vz3FuXijjme_",
        "outputId": "6276af76-1636-49b0-bf78-5835e07872bf"
      },
      "execution_count": 17,
      "outputs": [
        {
          "output_type": "stream",
          "name": "stdout",
          "text": [
            "front [1]\n",
            "back [4]\n",
            "front [2, 5, 6]\n",
            "back [3, 7, 8]\n",
            "front [5, 6, 1, 3, 5, 6, 7]\n",
            "back [7, 8, 2, 4, 6, 7, 8]\n",
            "7 comun\n",
            "nodos front pendientes 6, [6, 1, 3, 5, 6, 7]\n",
            "nodos back pendientes 6, [8, 2, 4, 6, 7, 8]\n",
            "nodos visitados 6\n"
          ]
        }
      ]
    }
  ]
}