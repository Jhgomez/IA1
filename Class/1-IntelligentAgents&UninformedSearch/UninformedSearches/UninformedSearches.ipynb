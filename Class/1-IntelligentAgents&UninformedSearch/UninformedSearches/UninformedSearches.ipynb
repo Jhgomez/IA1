{
  "nbformat": 4,
  "nbformat_minor": 0,
  "metadata": {
    "colab": {
      "provenance": []
    },
    "kernelspec": {
      "name": "python3",
      "display_name": "Python 3"
    },
    "language_info": {
      "name": "python"
    }
  },
  "cells": [
    {
      "cell_type": "code",
      "source": [
        "def sucesores9(n):\n",
        "    if n == 1: return [2, 4, 5]\n",
        "    elif n == 2: return [1, 3, 4, 5, 6]\n",
        "    elif n == 3: return [2, 5, 6]\n",
        "    elif n == 4: return [1, 2, 5, 7, 8]\n",
        "    elif n == 5: return [1, 2, 3, 4, 6, 7 ,8, 9]\n",
        "    elif n == 6: return [2, 3, 5, 8 ,9]\n",
        "    elif n == 7: return [4, 5, 8]\n",
        "    elif n == 8: return [4, 5, 6 ,7, 9]\n",
        "    elif n == 9: return [5, 6 , 8]\n",
        "    else: return None\n",
        "\n",
        "def sucesores16(n):\n",
        "    if n == 1: return [2, 5, 6]\n",
        "    elif n == 2: return [1, 3, 5, 6, 7]\n",
        "    elif n == 3: return [2, 4, 6, 7, 8]\n",
        "    elif n == 4: return [3, 7, 8]\n",
        "    elif n == 5: return [1, 2, 6, 9, 10]\n",
        "    elif n == 6: return [1, 2, 3, 5, 7, 9, 10, 11]\n",
        "    elif n == 7: return [2, 3, 4, 6, 8, 10, 11, 12]\n",
        "    elif n == 8: return [3, 4, 7, 11, 12]\n",
        "    elif n == 9: return [5, 6, 10, 13, 14]\n",
        "    elif n == 10: return [5, 6, 7, 9, 11, 13, 14, 15]\n",
        "    elif n == 11: return [6, 7, 8, 10, 12, 14, 15, 16]\n",
        "    elif n == 12: return [7, 8, 11, 15, 16]\n",
        "    elif n == 13: return [9, 10, 14]\n",
        "    elif n == 14: return [9, 10, 11, 13, 15]\n",
        "    elif n == 15: return [10, 11, 12, 14, 16]\n",
        "    elif n == 16: return [11, 12, 15]\n",
        "    else: return None"
      ],
      "metadata": {
        "id": "acn0PIDvqFWd"
      },
      "execution_count": 28,
      "outputs": []
    },
    {
      "cell_type": "markdown",
      "source": [
        "# Breadth First/Por Anchura(Con optimizacion de limitacion opcional)\n",
        "Este algoritmo sirve para ambos, \"busqueda por anchura\" normal y tambien con la optimizacion, \"Anchura Limitada\", este ultimo tiene la intencion de no generar el ultimo nivel lo que permite ahorrar memoria y muy poco CPU ya que la complejidad deberia ser lineal, esto significa que si la respuesta esta en el ultimo nivel permitido sucedera \"backtracking\""
      ],
      "metadata": {
        "id": "KTfqI5maHhyj"
      }
    },
    {
      "cell_type": "code",
      "source": [
        "\n",
        "\n",
        "def anchura(nodo_inicio, nodo_fin, limite_niveles):\n",
        "    visitados = 0\n",
        "    lista = [nodo_inicio]\n",
        "    nodosEnNiveles = [1, 0]\n",
        "    niveles = 0\n",
        "    while lista:\n",
        "        nodo_actual = lista.pop(0)\n",
        "        # print (nodo_actual)\n",
        "\n",
        "        visitados += 1\n",
        "\n",
        "        nodosEnNiveles[0] -= 1\n",
        "\n",
        "        if nodo_actual == nodo_fin:\n",
        "            print(\"SOLUCIÓN\")\n",
        "            print(f\"nodos sin visitar {len(lista)}, la lista es:\")\n",
        "            print(lista)\n",
        "            print(f\"nodos visitados {visitados}\")\n",
        "            print(f\"respuesta encontrada en nivel(indice) {niveles}, total de niveles no calculado, podria ser igual o mayor por uno al nivel encontrado\")\n",
        "            return\n",
        "\n",
        "        if limite_niveles is not None:\n",
        "            if niveles == limite_niveles:\n",
        "                continue\n",
        "\n",
        "        temp = sucesores16(nodo_actual)\n",
        "        #temp.reverse()\n",
        "        #print (temp)\n",
        "        if temp:\n",
        "            lista.extend(temp)\n",
        "\n",
        "            if nodosEnNiveles[0] == 0:\n",
        "                niveles += 1\n",
        "\n",
        "                if nodosEnNiveles[1] is not None:\n",
        "                  nodosEnNiveles[0] = nodosEnNiveles[1] + len(temp)\n",
        "                  nodosEnNiveles[1] = 0\n",
        "                else:\n",
        "                  nodosEnNiveles[0] = len(temp)\n",
        "            else:\n",
        "                nodosEnNiveles[1] += len(temp)\n",
        "\n",
        "            # print(lista)\n",
        "    print (\"NO-SOLUCIÓN\")\n",
        "\n",
        "# anchura (1,10, None) # anchura normal\n",
        "anchura (1,10, 2) # anchura limitada"
      ],
      "metadata": {
        "colab": {
          "base_uri": "https://localhost:8080/"
        },
        "id": "nalTArmfHkmc",
        "outputId": "d84c5026-fbc2-415a-e745-d7f9a9c181ba"
      },
      "execution_count": 56,
      "outputs": [
        {
          "output_type": "stream",
          "name": "stdout",
          "text": [
            "SOLUCIÓN\n",
            "nodos sin visitar 8, la lista es:\n",
            "[1, 2, 3, 5, 7, 9, 10, 11]\n",
            "nodos visitados 14\n",
            "respuesta encontrada en nivel(indice) 2, total de niveles no calculado, podria ser igual o mayor por uno al nivel encontrado\n"
          ]
        }
      ]
    },
    {
      "cell_type": "markdown",
      "source": [
        "# Busqueda Por profundidad\n",
        "Por su naturaleza encontrar una solucion no esta garantizado al menos en la matrices que estamos usando como ejemplo, ademas que pueden llegar a enciclarse ya que si estamos buscando de mayor a menor el orden de los sucesores debe ser descendente y si llega al nivel mas alto y el numero que estamos buscando no estaba en el camino se va enciclar, asi mismo si estamos buscando desde un nodo mayor a un nodo menor el orden de los sucesore3s debe de ser ascendente y se observa un comportamiento similar, osea se puede enciclar en un contexto similar. Notece que los sucesores generados siempre se colocan al inicio de la lista lo que le da un comportamiento de pila a la fila"
      ],
      "metadata": {
        "id": "MXUzxLgQtX8R"
      }
    },
    {
      "cell_type": "code",
      "source": [
        "def profundidad (nodo_inicio, nodo_fin):\n",
        "    lista = [nodo_inicio]\n",
        "    niveles = 0\n",
        "    nodos_visitados = 0\n",
        "\n",
        "    while lista:\n",
        "        nodo_actual = lista.pop(0)\n",
        "        nodos_visitados += 1\n",
        "\n",
        "        # print (nodo_actual)\n",
        "        if nodo_actual == nodo_fin:\n",
        "            #print(len(lista))\n",
        "            print(\"SOLUCIÓN\")\n",
        "            print(f\"nodos visitados {nodos_visitados}\")\n",
        "            print(f\"respuesta encontrada en nivel(indice) {niveles}\")\n",
        "            print(f\"nodos sin visitar {len(lista)}, y la lista es:\")\n",
        "            print(lista)\n",
        "            return\n",
        "\n",
        "        temp = sucesores16(nodo_actual)\n",
        "        temp.reverse()\n",
        "\n",
        "        if temp:\n",
        "            temp.extend(lista)\n",
        "            lista = temp\n",
        "            niveles += 1\n",
        "\n",
        "            # if niveles == 1:\n",
        "            #     nodos_sin_visitar = temp\n",
        "            # else:\n",
        "            #     nodos_sin_visitar = [temp, nodos_sin_visitar]\n",
        "            #     nodos_sin_visitar = [item for sublist in nodos_sin_visitar for item in sublist]\n",
        "\n",
        "    print (\"NO-SOLUCIÓN\")\n",
        "\n",
        "profundidad (1,6)"
      ],
      "metadata": {
        "colab": {
          "base_uri": "https://localhost:8080/"
        },
        "id": "qj7o6oSaqz6r",
        "outputId": "7ef9236f-9a19-412a-e440-f41a0bc35300"
      },
      "execution_count": 57,
      "outputs": [
        {
          "output_type": "stream",
          "name": "stdout",
          "text": [
            "SOLUCIÓN\n",
            "nodos visitados 2\n",
            "respuesta encontrada en nivel(indice) 1\n",
            "nodos sin visitar 2, y la lista es:\n",
            "[5, 2]\n"
          ]
        }
      ]
    },
    {
      "cell_type": "markdown",
      "source": [
        "# Backtracking\n",
        "Ya vimos que puede suceder backtracking en una busqueda por \"anchura limitada\", ahora veremos el backtracking pero en la busqueda \"por profundidad\", esta es practicamente una buqueda por \"profundidad limitada\" la unica diferencia con la busqueda por profundiad normal es que esta otra chequea que no haya llegado al limite de niveles"
      ],
      "metadata": {
        "id": "1bzbwGAN5tEr"
      }
    },
    {
      "cell_type": "code",
      "source": [
        "def profundidadLimitadaAkaBacktracking (nodo_inicio, nodo_fin, indice_limite):\n",
        "    lista = [nodo_inicio]\n",
        "    niveles = 0\n",
        "    nodos_visitados = 0\n",
        "\n",
        "    while lista:\n",
        "        nodo_actual = lista.pop(0)\n",
        "        nodos_visitados += 1\n",
        "\n",
        "        # print (nodo_actual)\n",
        "        if nodo_actual == nodo_fin:\n",
        "            #print(len(lista))\n",
        "            print(\"SOLUCIÓN\")\n",
        "            print(f\"nodos visitados {nodos_visitados}\")\n",
        "            print(f\"respuesta encontrada en nivel(indice) {niveles}\")\n",
        "            print(f\"nodos sin visitar {len(lista)}, y la lista es:\")\n",
        "            print(lista)\n",
        "            return\n",
        "\n",
        "        if indice_limite == niveles:\n",
        "            continue\n",
        "\n",
        "        temp = sucesores16(nodo_actual)\n",
        "        temp.reverse()\n",
        "\n",
        "        if temp:\n",
        "            temp.extend(lista)\n",
        "            lista = temp\n",
        "            niveles += 1\n",
        "\n",
        "            # if niveles == 1:\n",
        "            #     nodos_sin_visitar = temp\n",
        "            # else:\n",
        "            #     nodos_sin_visitar = [temp, nodos_sin_visitar]\n",
        "            #     nodos_sin_visitar = [item for sublist in nodos_sin_visitar for item in sublist]\n",
        "\n",
        "    print (\"NO-SOLUCIÓN\")\n",
        "\n",
        "profundidadLimitadaAkaBacktracking (1, 5, 2)"
      ],
      "metadata": {
        "colab": {
          "base_uri": "https://localhost:8080/"
        },
        "id": "xcuWXMW36EYk",
        "outputId": "a876b50e-05f8-4e62-f34d-e112d8d54e8f"
      },
      "execution_count": 63,
      "outputs": [
        {
          "output_type": "stream",
          "name": "stdout",
          "text": [
            "SOLUCIÓN\n",
            "nodos visitados 7\n",
            "respuesta encontrada en nivel(indice) 2\n",
            "nodos sin visitar 5, y la lista es:\n",
            "[3, 2, 1, 5, 2]\n"
          ]
        }
      ]
    }
  ]
}